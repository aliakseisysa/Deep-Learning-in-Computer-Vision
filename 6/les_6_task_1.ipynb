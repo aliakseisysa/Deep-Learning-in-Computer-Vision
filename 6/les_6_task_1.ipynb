{
  "nbformat": 4,
  "nbformat_minor": 0,
  "metadata": {
    "colab": {
      "name": "les_6_task_1.ipynb",
      "provenance": []
    },
    "kernelspec": {
      "name": "python3",
      "display_name": "Python 3"
    },
    "language_info": {
      "name": "python"
    }
  },
  "cells": [
    {
      "cell_type": "markdown",
      "source": [
        "Обучить сиамскую сеть для верификации лиц на датасете LFW\n",
        "Библиотеки: [Python, Tensorflow]"
      ],
      "metadata": {
        "id": "VuuEWthE2-oH"
      }
    },
    {
      "cell_type": "markdown",
      "source": [
        "1. Install dependencies\n",
        "In the below description it is assumed that\n",
        "a) Tensorflow has been installed, and\n",
        "b) the Facenet repo has been cloned, and\n",
        "c) the required python modules has been installed.\n",
        "\n",
        "2. Download the LFW dataset\n",
        "1. Download unaligned images from here\n",
        "In this example the archive is downloaded to ~/Downloads.\n",
        "\n",
        "2. Extract the unaligned images to local storage\n",
        "Assuming you have a directory ~/datasets for storing datasets"
      ],
      "metadata": {
        "id": "aP46gruj3G6g"
      }
    },
    {
      "cell_type": "code",
      "source": [
        "cd ~/datasets\n",
        "mkdir -p lfw/raw\n",
        "tar xvf ~/Downloads/lfw.tgz -C lfw/raw --strip-components=1\n",
        "for N in {1..4}; do \\\n",
        "python src/align/align_dataset_mtcnn.py \\\n",
        "~/datasets/lfw/raw \\\n",
        "~/datasets/lfw/lfw_mtcnnpy_160 \\\n",
        "--image_size 160 \\\n",
        "--margin 32 \\\n",
        "--random_order \\\n",
        "--gpu_memory_fraction 0.25 \\\n",
        "& done\n",
        "20180402-114759.pb\n",
        "model-20180402-114759.ckpt-275.data-00000-of-00001\n",
        "model-20180402-114759.ckpt-275.index\n",
        "model-20180402-114759.meta\n"
      ],
      "metadata": {
        "id": "-8phLSrD3OXX"
      },
      "execution_count": null,
      "outputs": []
    },
    {
      "cell_type": "markdown",
      "source": [
        "Run the test"
      ],
      "metadata": {
        "id": "ohACVWHd3ioA"
      }
    },
    {
      "cell_type": "code",
      "source": [
        "python src/validate_on_lfw.py \\\n",
        "~/datasets/lfw/lfw_mtcnnpy_160 \\\n",
        "~/models/facenet/20180402-114759 \\\n",
        "--distance_metric 1 \\\n",
        "--use_flipped_images \\\n",
        "--subtract_mean \\\n",
        "--use_fixed_image_standardization"
      ],
      "metadata": {
        "id": "RsgrPCA53jdI"
      },
      "execution_count": null,
      "outputs": []
    },
    {
      "cell_type": "markdown",
      "source": [
        "Model directory: /home/david/models/20180402-114759/\n",
        "Metagraph file: model-20180402-114759.meta\n",
        "Checkpoint file: model-20180402-114759.ckpt-275\n",
        "Runnning forward pass on LFW images\n",
        "........................\n",
        "Accuracy: 0.99650+-0.00252\n",
        "Validation rate: 0.98367+-0.00948 @ FAR=0.00100\n",
        "Area Under Curve (AUC): 1.000\n",
        "Equal Error Rate (EER): 0.004"
      ],
      "metadata": {
        "id": "9yLBoCEp3oMQ"
      }
    }
  ]
}