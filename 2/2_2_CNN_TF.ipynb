{
 "cells": [
  {
   "cell_type": "markdown",
   "metadata": {
    "id": "-HfoyWJlf6oQ"
   },
   "source": [
    "# Свёрточные нейронные сети. Часть 2."
   ]
  },
  {
   "cell_type": "markdown",
   "metadata": {
    "id": "oKd17knpgAUz"
   },
   "source": [
    "## Переключение версии TensorFlow"
   ]
  },
  {
   "cell_type": "code",
   "execution_count": null,
   "metadata": {
    "colab": {
     "base_uri": "https://localhost:8080/",
     "height": 34
    },
    "id": "U5Bl3Mbb2p0t",
    "outputId": "e6418b5d-e1cd-4add-d35a-8088b29436f8"
   },
   "outputs": [
    {
     "name": "stdout",
     "output_type": "stream",
     "text": [
      "TensorFlow 2.x selected.\n"
     ]
    }
   ],
   "source": [
    "%tensorflow_version 2.x"
   ]
  },
  {
   "cell_type": "code",
   "execution_count": null,
   "metadata": {
    "id": "JWtvVfJs2dnO"
   },
   "outputs": [],
   "source": [
    "%matplotlib inline\n",
    "import matplotlib.pyplot as plt\n",
    "import numpy as np\n",
    "\n",
    "import tensorflow as tf"
   ]
  },
  {
   "cell_type": "markdown",
   "metadata": {
    "id": "YdydP3kl2dnZ"
   },
   "source": [
    "## Загрузка и подготовка датасета MNIST"
   ]
  },
  {
   "cell_type": "code",
   "execution_count": null,
   "metadata": {
    "colab": {
     "base_uri": "https://localhost:8080/",
     "height": 122
    },
    "id": "XZlXiOx02dna",
    "outputId": "afd95b37-3cf7-4494-decb-5089b508f9bb"
   },
   "outputs": [
    {
     "name": "stdout",
     "output_type": "stream",
     "text": [
      "Downloading data from https://storage.googleapis.com/tensorflow/tf-keras-datasets/mnist.npz\n",
      "11493376/11490434 [==============================] - 0s 0us/step\n",
      "(60000, 28, 28, 1) float32\n",
      "(10000, 28, 28, 1) float32\n",
      "(60000,) int32\n",
      "(10000,) int32\n"
     ]
    }
   ],
   "source": [
    "(train_x, train_y), (test_x, test_y) = tf.keras.datasets.mnist.load_data()\n",
    "\n",
    "train_x = train_x.reshape(-1, 28, 28, 1).astype(np.float32) / 255.\n",
    "test_x = test_x.reshape(-1, 28, 28, 1).astype(np.float32) / 255.\n",
    "\n",
    "train_y = train_y.astype(np.int32)\n",
    "test_y = test_y.astype(np.int32)\n",
    "\n",
    "print(train_x.shape, train_x.dtype)\n",
    "print(test_x.shape, test_x.dtype)\n",
    "print(train_y.shape, train_y.dtype)\n",
    "print(test_y.shape, test_y.dtype)"
   ]
  },
  {
   "cell_type": "markdown",
   "metadata": {
    "id": "hOWFXq4D2dng"
   },
   "source": [
    "## Визуализация датасета MNIST"
   ]
  },
  {
   "cell_type": "code",
   "execution_count": null,
   "metadata": {
    "colab": {
     "base_uri": "https://localhost:8080/",
     "height": 349
    },
    "id": "m3hxPxwH2dnh",
    "outputId": "3eb0b3a1-920e-4e2b-e381-9a7825c34bce"
   },
   "outputs": [
    {
     "data": {
      "image/png": "[encoded data removed]",
      "text/plain": [
       "<Figure size 720x432 with 32 Axes>"
      ]
     },
     "metadata": {
      "tags": []
     },
     "output_type": "display_data"
    }
   ],
   "source": [
    "some_samples = train_x[:32, ...]\n",
    "\n",
    "fig = plt.figure(figsize=(10, 6))\n",
    "for j in range(some_samples.shape[0]):\n",
    "    ax = fig.add_subplot(4, 8, j+1)\n",
    "    ax.imshow(some_samples[j,:,:,0], cmap='gray')\n",
    "    plt.xticks([]), plt.yticks([])\n",
    "plt.show()"
   ]
  },
  {
   "cell_type": "markdown",
   "metadata": {
    "id": "LQHQd5kR2dnk"
   },
   "source": [
    "## Создание пайплайна данных"
   ]
  },
  {
   "cell_type": "code",
   "execution_count": null,
   "metadata": {
    "id": "7Gxfke852dnl"
   },
   "outputs": [],
   "source": [
    "NUM_EPOCHS = 4\n",
    "BATCH_SIZE = 64\n",
    "\n",
    "train_ds = tf.data.Dataset.from_tensor_slices((train_x, train_y))\n",
    "train_ds = train_ds.shuffle(buffer_size=train_x.shape[0])\n",
    "train_ds = train_ds.repeat(NUM_EPOCHS)\n",
    "train_ds = train_ds.batch(BATCH_SIZE)"
   ]
  },
  {
   "cell_type": "markdown",
   "metadata": {
    "id": "jmgeYrHU2dnn"
   },
   "source": [
    "## Создание модели CNN"
   ]
  },
  {
   "cell_type": "code",
   "execution_count": null,
   "metadata": {
    "id": "PTEHGgJE2dno"
   },
   "outputs": [],
   "source": [
    "class Model(tf.keras.Model):\n",
    "    \n",
    "    def __init__(self):\n",
    "        super(Model, self).__init__()\n",
    "        \n",
    "        self.conv1 = tf.keras.layers.Conv2D(32, (5, 5), activation='relu', padding='same')\n",
    "        self.conv2 = tf.keras.layers.Conv2D(64, (5, 5), activation='relu', padding='same')\n",
    "        self.fc1 = tf.keras.layers.Dense(256, activation='relu')\n",
    "        self.fc2 = tf.keras.layers.Dense(10, activation=None)\n",
    "        self.max_pool = tf.keras.layers.MaxPooling2D((2, 2), (2, 2))\n",
    "        self.flatten = tf.keras.layers.Flatten()\n",
    "        \n",
    "    def call(self, inp):\n",
    "\n",
    "        out = self.conv1(inp)\n",
    "        out = self.max_pool(out)\n",
    "        out = self.conv2(out)\n",
    "        out = self.max_pool(out)\n",
    "        out = self.flatten(out)\n",
    "        out = self.fc1(out)\n",
    "        out = self.fc2(out)\n",
    "        \n",
    "        return out\n",
    "    \n",
    "model = Model()"
   ]
  },
  {
   "cell_type": "markdown",
   "metadata": {
    "id": "-M-16XIh2dnq"
   },
   "source": [
    "## Функция потерь и функция вычисления точности"
   ]
  },
  {
   "cell_type": "code",
   "execution_count": null,
   "metadata": {
    "id": "TP3U3bv_2dnr"
   },
   "outputs": [],
   "source": [
    "def loss(logits, labels):\n",
    "    return tf.reduce_mean(tf.nn.sparse_softmax_cross_entropy_with_logits(\n",
    "        logits=logits, labels=labels))\n",
    "\n",
    "def accuracy(logits, labels):\n",
    "    predictions = tf.argmax(logits, axis=1, output_type=tf.int32)\n",
    "    return tf.reduce_mean(tf.cast(tf.equal(predictions, labels), dtype=tf.float32))"
   ]
  },
  {
   "cell_type": "markdown",
   "metadata": {
    "id": "tKNAYTcZ2dnu"
   },
   "source": [
    "## Подготовка к обучению"
   ]
  },
  {
   "cell_type": "code",
   "execution_count": null,
   "metadata": {
    "id": "Mh6dMXhP2dnv"
   },
   "outputs": [],
   "source": [
    "LEARNING_RATE = 0.001\n",
    "\n",
    "# optimizer = tf.keras.optimizers.SGD(LEARNING_RATE)\n",
    "optimizer = tf.keras.optimizers.Adam(LEARNING_RATE)\n",
    "\n",
    "# writer = tf.summary.create_file_writer('logs/sgd')\n",
    "writer = tf.summary.create_file_writer('logs/adam')"
   ]
  },
  {
   "cell_type": "markdown",
   "metadata": {
    "id": "Ow03okNy2dnx"
   },
   "source": [
    "## Цикл обучения модели"
   ]
  },
  {
   "cell_type": "code",
   "execution_count": null,
   "metadata": {
    "colab": {
     "base_uri": "https://localhost:8080/",
     "height": 386
    },
    "id": "8KGR-0U_2dny",
    "outputId": "790a189d-02c8-4de4-998b-468daf677cf5"
   },
   "outputs": [
    {
     "name": "stdout",
     "output_type": "stream",
     "text": [
      "[   0] Accuracy: 25.78 %\n",
      "[ 200] Accuracy: 98.83 %\n",
      "[ 400] Accuracy: 99.22 %\n",
      "[ 600] Accuracy: 99.22 %\n",
      "[ 800] Accuracy: 98.83 %\n",
      "[1000] Accuracy: 99.61 %\n",
      "[1200] Accuracy: 99.61 %\n",
      "[1400] Accuracy: 98.44 %\n",
      "[1600] Accuracy: 98.83 %\n",
      "[1800] Accuracy: 99.22 %\n",
      "[2000] Accuracy: 99.61 %\n",
      "[2200] Accuracy: 99.61 %\n",
      "[2400] Accuracy: 99.61 %\n",
      "[2600] Accuracy: 99.61 %\n",
      "[2800] Accuracy: 99.61 %\n",
      "[3000] Accuracy: 100.00 %\n",
      "[3200] Accuracy: 99.61 %\n",
      "[3400] Accuracy: 99.61 %\n",
      "[3600] Accuracy: 99.22 %\n",
      "CPU times: user 28.8 s, sys: 1.03 s, total: 29.8 s\n",
      "Wall time: 29.8 s\n"
     ]
    }
   ],
   "source": [
    "%%time\n",
    "\n",
    "for iteration, (images, labels) in enumerate(train_ds):\n",
    "    \n",
    "    # Forward\n",
    "    with tf.GradientTape() as tape:\n",
    "        logits = model(images)\n",
    "        loss_value = loss(logits, labels)\n",
    "        \n",
    "    # Backward\n",
    "    grads = tape.gradient(loss_value, model.trainable_variables)\n",
    "    optimizer.apply_gradients(zip(grads, model.trainable_variables))\n",
    "    \n",
    "    # Calc and display loss/accuracy\n",
    "    if iteration % 200 == 0:\n",
    "        test_logits = model(test_x[:256, ...])\n",
    "        accuracy_value = accuracy(test_logits, test_y[:256, ...])\n",
    "        \n",
    "        print(\"[%4d] Accuracy: %5.2f %%\" % (\n",
    "            iteration, accuracy_value.numpy()*100))\n",
    "        \n",
    "        with writer.as_default():\n",
    "            tf.summary.scalar('accuracy', accuracy_value, iteration)\n",
    "            tf.summary.scalar('loss', loss_value, iteration)\n"
   ]
  },
  {
   "cell_type": "markdown",
   "metadata": {
    "id": "U3gyOFWy2dn1"
   },
   "source": [
    "## Оценка качества модели"
   ]
  },
  {
   "cell_type": "code",
   "execution_count": null,
   "metadata": {
    "colab": {
     "base_uri": "https://localhost:8080/",
     "height": 70
    },
    "id": "efFwTwwr2dn2",
    "outputId": "43fc10dd-0591-4da4-832e-68d54e51aa92"
   },
   "outputs": [
    {
     "name": "stdout",
     "output_type": "stream",
     "text": [
      "Final Accuracy: 99.01 %\n",
      "CPU times: user 51.3 ms, sys: 25.4 ms, total: 76.7 ms\n",
      "Wall time: 82 ms\n"
     ]
    }
   ],
   "source": [
    "%%time\n",
    "\n",
    "test_logits = model(test_x)\n",
    "accuracy_value = accuracy(test_logits, test_y).numpy()\n",
    "print(\"Final Accuracy: %5.2f %%\" % (accuracy_value * 100))"
   ]
  },
  {
   "cell_type": "markdown",
   "metadata": {
    "id": "DgXgCtMmBD4o"
   },
   "source": [
    "## TensorBoard"
   ]
  },
  {
   "cell_type": "code",
   "execution_count": null,
   "metadata": {
    "colab": {
     "base_uri": "https://localhost:8080/",
     "height": 820
    },
    "id": "imo5YCCV-1SF",
    "outputId": "99f880e4-024b-4bd2-b6d0-0e8497b6ed5a"
   },
   "outputs": [],
   "source": [
    "%load_ext tensorboard\n",
    "%tensorboard --logdir logs"
   ]
  },
  {
   "cell_type": "markdown",
   "metadata": {
    "id": "zpHX2H6z2dn4"
   },
   "source": [
    "## Функция для инференса и отображения результата предсказания"
   ]
  },
  {
   "cell_type": "code",
   "execution_count": null,
   "metadata": {
    "id": "z35LM4tj2dn5"
   },
   "outputs": [],
   "source": [
    "def test_item(sample):\n",
    "    \n",
    "    logits = model(sample[None, ...])[0]\n",
    "    prediction = tf.nn.softmax(logits)\n",
    "    ans = np.argmax(prediction)\n",
    "    \n",
    "    fig = plt.figure(figsize=(12,4))\n",
    "\n",
    "    ax = fig.add_subplot(1, 2, 1)\n",
    "    ax.imshow(sample[:,:,0], cmap='gray')\n",
    "    plt.xticks([]), plt.yticks([])\n",
    "\n",
    "    ax = fig.add_subplot(1, 2, 2)\n",
    "    bar_list = ax.bar(np.arange(10), prediction, align='center')\n",
    "    bar_list[ans].set_color('g')\n",
    "    ax.set_xticks(np.arange(10))\n",
    "    ax.set_xlim([-1, 10])\n",
    "    ax.grid(True)\n",
    "\n",
    "    plt.show()\n",
    "    \n",
    "    print('Predicted: {}'.format(ans))"
   ]
  },
  {
   "cell_type": "markdown",
   "metadata": {
    "id": "SI2T7-SC2dn8"
   },
   "source": [
    "## Запуск предсказания для изображения случайной цифры из MNIST"
   ]
  },
  {
   "cell_type": "code",
   "execution_count": null,
   "metadata": {
    "colab": {
     "base_uri": "https://localhost:8080/",
     "height": 300
    },
    "id": "1rEgJ4E-2dn9",
    "outputId": "5879d600-3a60-49d0-c884-1f01ab6d469f"
   },
   "outputs": [
    {
     "data": {
      "image/png": "[encoded data removed]",
      "text/plain": [
       "<Figure size 864x288 with 2 Axes>"
      ]
     },
     "metadata": {
      "tags": []
     },
     "output_type": "display_data"
    },
    {
     "name": "stdout",
     "output_type": "stream",
     "text": [
      "Predicted: 2\n",
      "True Answer: 2\n"
     ]
    }
   ],
   "source": [
    "import random\n",
    "idx = random.randint(0, test_x.shape[0])\n",
    "sample = test_x[idx, ...]\n",
    "test_item(sample)\n",
    "\n",
    "print('True Answer: {}'.format(test_y[idx]))"
   ]
  },
  {
   "cell_type": "code",
   "execution_count": null,
   "metadata": {
    "id": "Y6aEgvX3OO4e"
   },
   "outputs": [],
   "source": []
  }
 ],
 "metadata": {
  "accelerator": "GPU",
  "colab": {
   "collapsed_sections": [],
   "name": "2_2_CNN_TF.ipynb",
   "provenance": []
  },
  "kernelspec": {
   "display_name": "Python 3 (ipykernel)",
   "language": "python",
   "name": "python3"
  },
  "language_info": {
   "codemirror_mode": {
    "name": "ipython",
    "version": 3
   },
   "file_extension": ".py",
   "mimetype": "text/x-python",
   "name": "python",
   "nbconvert_exporter": "python",
   "pygments_lexer": "ipython3",
   "version": "3.8.9"
  }
 },
 "nbformat": 4,
 "nbformat_minor": 1
}
